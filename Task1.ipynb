{
 "cells": [
  {
   "cell_type": "code",
   "execution_count": 4,
   "id": "6276331c",
   "metadata": {},
   "outputs": [
    {
     "name": "stdout",
     "output_type": "stream",
     "text": [
      "Index(['Serial No.', 'GRE Score', 'TOEFL Score', 'University Rating', 'SOP',\n",
      "       'LOR ', 'CGPA', 'Research', 'Chance of Admit '],\n",
      "      dtype='object')\n"
     ]
    }
   ],
   "source": [
    "import pandas as pd\n",
    "\n",
    "# Load the dataset\n",
    "data = pd.read_csv(\"Admission_Predict.csv\")\n",
    "\n",
    "# Display the column names\n",
    "print(data.columns)"
   ]
  },
  {
   "cell_type": "code",
   "execution_count": 11,
   "id": "ebf5fc51",
   "metadata": {},
   "outputs": [
    {
     "name": "stdout",
     "output_type": "stream",
     "text": [
      "Mean Squared Error: 0.003763361000000004\n",
      "R-squared: 0.8542652431331853\n"
     ]
    }
   ],
   "source": [
    "import pandas as pd\n",
    "import numpy as np\n",
    "from sklearn.model_selection import train_test_split\n",
    "from sklearn.preprocessing import StandardScaler\n",
    "from sklearn.ensemble import RandomForestRegressor\n",
    "from sklearn.metrics import mean_squared_error, r2_score\n",
    "\n",
    "# Step 1: Load the dataset\n",
    "data = pd.read_csv('Admission_Predict.csv')\n",
    "\n",
    "# Step 2: Data preprocessing\n",
    "X = data.drop('Chance of Admit ', axis=1)  # Assuming 'Chance of Admit ' is the target\n",
    "y = data['Chance of Admit ']\n",
    "\n",
    "# Step 3: Feature scaling\n",
    "scaler = StandardScaler()\n",
    "X_scaled = scaler.fit_transform(X)\n",
    "\n",
    "# Step 4: Train-test split\n",
    "X_train, X_test, y_train, y_test = train_test_split(X_scaled, y, test_size=0.2, random_state=42)\n",
    "\n",
    "# Step 5: Train the regression model\n",
    "regressor = RandomForestRegressor(random_state=42)\n",
    "regressor.fit(X_train, y_train)\n",
    "\n",
    "# Step 6: Make predictions\n",
    "y_pred = regressor.predict(X_test)\n",
    "\n",
    "# Step 7: Evaluate the model\n",
    "mse = mean_squared_error(y_test, y_pred)\n",
    "r2 = r2_score(y_test, y_pred)\n",
    "\n",
    "print(\"Mean Squared Error:\", mse)\n",
    "print(\"R-squared:\", r2)"
   ]
  },
  {
   "cell_type": "code",
   "execution_count": 12,
   "id": "b61c606c",
   "metadata": {},
   "outputs": [
    {
     "data": {
      "text/plain": [
       "array([0.6898, 0.7443, 0.9377, 0.8255, 0.4899, 0.9147, 0.5965, 0.4413,\n",
       "       0.6938, 0.907 , 0.6662, 0.9403, 0.5334, 0.9042, 0.7343, 0.5725,\n",
       "       0.7027, 0.4902, 0.727 , 0.9601, 0.5743, 0.623 , 0.7115, 0.5526,\n",
       "       0.9432, 0.8074, 0.6243, 0.6069, 0.7106, 0.7698, 0.7946, 0.9425,\n",
       "       0.6486, 0.443 , 0.6988, 0.6532, 0.6748, 0.708 , 0.6467, 0.9217,\n",
       "       0.7562, 0.6178, 0.6881, 0.9461, 0.8702, 0.8344, 0.9647, 0.6798,\n",
       "       0.9348, 0.8974, 0.9129, 0.7389, 0.7899, 0.946 , 0.568 , 0.5675,\n",
       "       0.6975, 0.854 , 0.5268, 0.862 , 0.6269, 0.6928, 0.723 , 0.4412,\n",
       "       0.5819, 0.6605, 0.6387, 0.8543, 0.8846, 0.7541, 0.7267, 0.8222,\n",
       "       0.9188, 0.844 , 0.5212, 0.7432, 0.6908, 0.5615, 0.859 , 0.7811])"
      ]
     },
     "execution_count": 12,
     "metadata": {},
     "output_type": "execute_result"
    }
   ],
   "source": [
    "y_pred"
   ]
  },
  {
   "cell_type": "code",
   "execution_count": null,
   "id": "1f21195f",
   "metadata": {},
   "outputs": [],
   "source": []
  }
 ],
 "metadata": {
  "kernelspec": {
   "display_name": "Python 3",
   "language": "python",
   "name": "python3"
  },
  "language_info": {
   "codemirror_mode": {
    "name": "ipython",
    "version": 3
   },
   "file_extension": ".py",
   "mimetype": "text/x-python",
   "name": "python",
   "nbconvert_exporter": "python",
   "pygments_lexer": "ipython3",
   "version": "3.8.8"
  }
 },
 "nbformat": 4,
 "nbformat_minor": 5
}
