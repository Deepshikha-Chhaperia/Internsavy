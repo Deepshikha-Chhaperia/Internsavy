{
 "cells": [
  {
   "cell_type": "code",
   "execution_count": 4,
   "id": "ac0152ed",
   "metadata": {},
   "outputs": [
    {
     "name": "stdout",
     "output_type": "stream",
     "text": [
      "Mean Squared Error (MSE): 29.70125398653453\n",
      "Mean Absolute Error (MAE): 3.8900591361790227\n",
      "R-squared (R2): 0.9700316215750563\n",
      "Predicted Runs: 106.30179729029805\n"
     ]
    }
   ],
   "source": [
    "import pandas as pd\n",
    "from sklearn.model_selection import train_test_split\n",
    "from sklearn.linear_model import LinearRegression\n",
    "from sklearn.metrics import mean_squared_error, mean_absolute_error, r2_score\n",
    "\n",
    "# Load the dataset\n",
    "data = pd.read_csv('Batsman_Data.csv')  # Replace 'path_to_your_dataset.csv' with the actual file path\n",
    "\n",
    "# Data Preprocessing (handle missing values)\n",
    "data.replace('-', pd.NA, inplace=True)  # Replace '-' with NaN\n",
    "\n",
    "# Convert relevant columns to numeric type\n",
    "numeric_columns = ['Runs', 'BF', 'SR', '4s', '6s']\n",
    "data[numeric_columns] = data[numeric_columns].apply(pd.to_numeric)\n",
    "\n",
    "# Drop rows with missing values\n",
    "data.dropna(inplace=True)\n",
    "\n",
    "# Feature Selection\n",
    "selected_features = ['BF', 'SR', '4s', '6s']\n",
    "X = data[selected_features]\n",
    "y = data['Runs']\n",
    "\n",
    "# Data Splitting\n",
    "X_train, X_test, y_train, y_test = train_test_split(X, y, test_size=0.2, random_state=42)\n",
    "\n",
    "# Model Selection and Training\n",
    "model = LinearRegression()  # You can try other regression models as well\n",
    "model.fit(X_train, y_train)\n",
    "\n",
    "# Model Evaluation\n",
    "y_pred = model.predict(X_test)\n",
    "mse = mean_squared_error(y_test, y_pred)\n",
    "mae = mean_absolute_error(y_test, y_pred)\n",
    "r2 = r2_score(y_test, y_pred)\n",
    "\n",
    "print(f'Mean Squared Error (MSE): {mse}')\n",
    "print(f'Mean Absolute Error (MAE): {mae}')\n",
    "print(f'R-squared (R2): {r2}')\n",
    "\n",
    "# Prediction\n",
    "# Now you can use the trained model to predict runs for new data.\n",
    "new_data = pd.DataFrame([[100, 120.0, 12, 2]], columns=selected_features)  # Replace with actual input statistics\n",
    "predicted_runs = model.predict(new_data)\n",
    "print(f'Predicted Runs: {predicted_runs[0]}')\n"
   ]
  },
  {
   "cell_type": "code",
   "execution_count": 6,
   "id": "aba314a3",
   "metadata": {},
   "outputs": [
    {
     "name": "stdout",
     "output_type": "stream",
     "text": [
      "Mean Squared Error (MSE): 48.2826294270873\n",
      "Mean Absolute Error (MAE): 5.509262588546401\n",
      "R-squared (R2): 0.8224616357654679\n",
      "Predicted Average: 58.345912291933566\n"
     ]
    }
   ],
   "source": [
    "import pandas as pd\n",
    "import numpy as np\n",
    "from sklearn.model_selection import train_test_split\n",
    "from sklearn.linear_model import LinearRegression\n",
    "from sklearn.metrics import mean_squared_error, mean_absolute_error, r2_score\n",
    "\n",
    "# Load the dataset\n",
    "data = pd.read_csv('Bowler_Data.csv')\n",
    "\n",
    "# Convert '-' to NaN\n",
    "data.replace('-', np.nan, inplace=True)\n",
    "\n",
    "# Drop rows with missing target values (Ave)\n",
    "data.dropna(subset=['Ave'], inplace=True)\n",
    "\n",
    "# Convert columns to numeric types\n",
    "data['Overs'] = pd.to_numeric(data['Overs'], errors='coerce')\n",
    "data['Mdns'] = pd.to_numeric(data['Mdns'], errors='coerce')\n",
    "data['Runs'] = pd.to_numeric(data['Runs'], errors='coerce')\n",
    "data['Wkts'] = pd.to_numeric(data['Wkts'], errors='coerce')\n",
    "data['Econ'] = pd.to_numeric(data['Econ'], errors='coerce')\n",
    "data['Ave'] = pd.to_numeric(data['Ave'], errors='coerce')\n",
    "data['SR'] = pd.to_numeric(data['SR'], errors='coerce')\n",
    "\n",
    "# Drop unnecessary columns\n",
    "data.drop(columns=['Opposition', 'Ground', 'Start Date', 'Match_ID', 'Bowler', 'Player_ID'], inplace=True)\n",
    "\n",
    "# Feature selection\n",
    "X = data[['Overs', 'Mdns', 'Runs', 'Wkts', 'Econ']]\n",
    "y = data['Ave']\n",
    "\n",
    "# Split the data into 80% training and 20% testing\n",
    "X_train, X_test, y_train, y_test = train_test_split(X, y, test_size=0.2, random_state=42)\n",
    "\n",
    "# Initialize the Linear Regression model\n",
    "model = LinearRegression()\n",
    "\n",
    "# Train the model on the training data\n",
    "model.fit(X_train, y_train)\n",
    "\n",
    "# Make predictions on the test set\n",
    "y_pred = model.predict(X_test)\n",
    "\n",
    "# Evaluate the model\n",
    "mse = mean_squared_error(y_test, y_pred)\n",
    "mae = mean_absolute_error(y_test, y_pred)\n",
    "r2 = r2_score(y_test, y_pred)\n",
    "\n",
    "print(\"Mean Squared Error (MSE):\", mse)\n",
    "print(\"Mean Absolute Error (MAE):\", mae)\n",
    "print(\"R-squared (R2):\", r2)\n",
    "\n",
    "# Example: To predict the average for a new player with features [8, 0, 57, 0, 7.12]\n",
    "new_data = pd.DataFrame({'Overs': [8], 'Mdns': [0], 'Runs': [57], 'Wkts': [0], 'Econ': [7.12]})\n",
    "predicted_average = model.predict(new_data)\n",
    "print(\"Predicted Average:\", predicted_average[0])"
   ]
  },
  {
   "cell_type": "code",
   "execution_count": null,
   "id": "c88022ef",
   "metadata": {},
   "outputs": [],
   "source": []
  }
 ],
 "metadata": {
  "kernelspec": {
   "display_name": "Python 3",
   "language": "python",
   "name": "python3"
  },
  "language_info": {
   "codemirror_mode": {
    "name": "ipython",
    "version": 3
   },
   "file_extension": ".py",
   "mimetype": "text/x-python",
   "name": "python",
   "nbconvert_exporter": "python",
   "pygments_lexer": "ipython3",
   "version": "3.8.8"
  }
 },
 "nbformat": 4,
 "nbformat_minor": 5
}
